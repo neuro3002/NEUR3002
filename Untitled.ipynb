{
 "cells": [
  {
   "cell_type": "markdown",
   "id": "484a680d-18e8-46b7-8437-b7b2fb49c879",
   "metadata": {},
   "source": [
    "# NEUR3002 HW2 Test"
   ]
  },
  {
   "cell_type": "markdown",
   "id": "657f7da2-4722-457d-9513-7a2ad20e2a89",
   "metadata": {},
   "source": [
    "## BY: TA"
   ]
  },
  {
   "cell_type": "markdown",
   "id": "08ca0f53-0690-4ece-aa5b-b07aa3945a04",
   "metadata": {},
   "source": [
    "**Define the following**"
   ]
  },
  {
   "cell_type": "markdown",
   "id": "9e71b3d6-fccd-4914-ba26-6a2670ed2096",
   "metadata": {},
   "source": [
    "* temporal\n",
    "* rate\n",
    "* latency\n",
    "* synchronous\n",
    "* tuning curve\n",
    "* population code"
   ]
  },
  {
   "cell_type": "markdown",
   "id": "4c63bfea-df94-43a8-9655-510ec67c6594",
   "metadata": {},
   "source": [
    "**Compare and Contrast**"
   ]
  },
  {
   "cell_type": "markdown",
   "id": "d65e248e-80d2-4043-aa2c-8bb2d58d10b7",
   "metadata": {},
   "source": []
  },
  {
   "cell_type": "markdown",
   "id": "4beef295-102f-452d-97d5-106f743b824b",
   "metadata": {},
   "source": []
  }
 ],
 "metadata": {
  "kernelspec": {
   "display_name": "Python 3 (ipykernel)",
   "language": "python",
   "name": "python3"
  },
  "language_info": {
   "codemirror_mode": {
    "name": "ipython",
    "version": 3
   },
   "file_extension": ".py",
   "mimetype": "text/x-python",
   "name": "python",
   "nbconvert_exporter": "python",
   "pygments_lexer": "ipython3",
   "version": "3.11.5"
  }
 },
 "nbformat": 4,
 "nbformat_minor": 5
}
